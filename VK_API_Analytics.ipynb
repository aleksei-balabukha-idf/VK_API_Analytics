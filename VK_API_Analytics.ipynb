{
  "cells": [
    {
      "cell_type": "markdown",
      "metadata": {
        "id": "5OXer84FHVAU"
      },
      "source": [
        "# VK API Analytics"
      ]
    },
    {
      "cell_type": "markdown",
      "metadata": {
        "id": "8vS_kLIvHVAV"
      },
      "source": [
        "Task: **Create Analytics report for marketing department of the company**  \n",
        "Object of Analysis:  [VK page](https://vk.com/skillbox_education)\n",
        "  \n",
        "In the Analysis, we will make requests to get info about posts in web-page for specific period.  \n",
        "We will analyse the influence of different factors (time of publication) on users activity (like and comments)"
      ]
    },
    {
      "cell_type": "code",
      "execution_count": 1,
      "metadata": {
        "id": "7SzjqiQLHVAW"
      },
      "outputs": [],
      "source": [
        "import requests\n",
        "import pandas as pd\n",
        "from datetime import datetime, timedelta\n",
        "\n",
        "def getjson(url):\n",
        "    response = requests.get(url)\n",
        "    response = response.json()\n",
        "    return response\n",
        "\n",
        "def get_date(date):\n",
        "    dt = (datetime.fromtimestamp(date) - timedelta(hours=0)).strftime('%Y-%m-%d %H:%M:%S')\n",
        "    return dt\n",
        "\n",
        "def get_response(vk_token, offset, count, owner_id):\n",
        "    url = 'https://api.vk.com/method/wall.get?access_token=' + str(vk_token) + \\\n",
        "     '&owner_id=' + str(owner_id) + '&offset=' + str(offset) + \\\n",
        "     '&count=' + str(count) + '&v=5.92'\n",
        "    response = getjson(url)\n",
        "    return response\n",
        "\n",
        "def get_df_from_response(response, offset):\n",
        "    post_datetime_str = get_date(response['response']['items'][0]['date'])\n",
        "    post_datetime = datetime.strptime(post_datetime_str, '%Y-%m-%d %H:%M:%S')\n",
        "    post_date = post_datetime.date()\n",
        "    post_time = post_datetime.time()\n",
        "    text = response['response']['items'][0]['text']\n",
        "    comments_amount = response['response']['items'][0]['comments']['count']\n",
        "    likes_amount = response['response']['items'][0]['likes']['count']\n",
        "    df = pd.DataFrame({\n",
        "        'post_id': [offset],\n",
        "        'post_datetime' : [post_datetime],\n",
        "        'post_date': [post_date],\n",
        "        'post_time': [post_time],\n",
        "        'text': [text],\n",
        "        'comments_amount': [comments_amount],\n",
        "        'likes_amount': [likes_amount]\n",
        "    })\n",
        "    return df"
      ]
    },
    {
      "cell_type": "markdown",
      "metadata": {},
      "source": [
        "Period of analysis:  \n",
        "- Date start: We will consider posts starting 2021-11-19\n",
        "- Date end: 2022-01-19 (2 months)  \n",
        "the period should not be very long, since development of web-page can significantly infuence users activity (new posts may have higher or lower activity due to new features implemented etc.)"
      ]
    },
    {
      "cell_type": "code",
      "execution_count": 48,
      "metadata": {},
      "outputs": [],
      "source": [
        "import os\n",
        "from dotenv import load_dotenv\n",
        "load_dotenv()\n",
        "vk_token = os.getenv('MY_ACCESS_TOKEN')\n",
        "offset_start = 260\n",
        "offset_end = 178\n",
        "count = 1\n",
        "owner_id = -66669811\n",
        "\n",
        "# start:\n",
        "response_start = get_response(vk_token=vk_token, offset = offset_start, count=count, owner_id=owner_id)\n",
        "df_start = get_df_from_response(response_start, offset_start)\n",
        "\n",
        "#end:\n",
        "response_end = get_response(vk_token=vk_token, offset = offset_end, count=count, owner_id=owner_id)\n",
        "df_end = get_df_from_response(response_end, offset_end)"
      ]
    },
    {
      "cell_type": "code",
      "execution_count": 49,
      "metadata": {},
      "outputs": [
        {
          "data": {
            "text/html": [
              "<div>\n",
              "<style scoped>\n",
              "    .dataframe tbody tr th:only-of-type {\n",
              "        vertical-align: middle;\n",
              "    }\n",
              "\n",
              "    .dataframe tbody tr th {\n",
              "        vertical-align: top;\n",
              "    }\n",
              "\n",
              "    .dataframe thead th {\n",
              "        text-align: right;\n",
              "    }\n",
              "</style>\n",
              "<table border=\"1\" class=\"dataframe\">\n",
              "  <thead>\n",
              "    <tr style=\"text-align: right;\">\n",
              "      <th></th>\n",
              "      <th>post_id</th>\n",
              "      <th>post_datetime</th>\n",
              "      <th>post_date</th>\n",
              "      <th>post_time</th>\n",
              "      <th>text</th>\n",
              "      <th>comments_amount</th>\n",
              "      <th>likes_amount</th>\n",
              "    </tr>\n",
              "  </thead>\n",
              "  <tbody>\n",
              "    <tr>\n",
              "      <th>0</th>\n",
              "      <td>260</td>\n",
              "      <td>2021-11-19 02:04:53</td>\n",
              "      <td>2021-11-19</td>\n",
              "      <td>02:04:53</td>\n",
              "      <td>С удовольствием смотрите фильмы вроде «Банды Н...</td>\n",
              "      <td>0</td>\n",
              "      <td>19</td>\n",
              "    </tr>\n",
              "  </tbody>\n",
              "</table>\n",
              "</div>"
            ],
            "text/plain": [
              "   post_id       post_datetime   post_date post_time  \\\n",
              "0      260 2021-11-19 02:04:53  2021-11-19  02:04:53   \n",
              "\n",
              "                                                text  comments_amount  \\\n",
              "0  С удовольствием смотрите фильмы вроде «Банды Н...                0   \n",
              "\n",
              "   likes_amount  \n",
              "0            19  "
            ]
          },
          "execution_count": 49,
          "metadata": {},
          "output_type": "execute_result"
        }
      ],
      "source": [
        "df_start"
      ]
    },
    {
      "cell_type": "code",
      "execution_count": 50,
      "metadata": {},
      "outputs": [
        {
          "data": {
            "text/html": [
              "<div>\n",
              "<style scoped>\n",
              "    .dataframe tbody tr th:only-of-type {\n",
              "        vertical-align: middle;\n",
              "    }\n",
              "\n",
              "    .dataframe tbody tr th {\n",
              "        vertical-align: top;\n",
              "    }\n",
              "\n",
              "    .dataframe thead th {\n",
              "        text-align: right;\n",
              "    }\n",
              "</style>\n",
              "<table border=\"1\" class=\"dataframe\">\n",
              "  <thead>\n",
              "    <tr style=\"text-align: right;\">\n",
              "      <th></th>\n",
              "      <th>post_id</th>\n",
              "      <th>post_datetime</th>\n",
              "      <th>post_date</th>\n",
              "      <th>post_time</th>\n",
              "      <th>text</th>\n",
              "      <th>comments_amount</th>\n",
              "      <th>likes_amount</th>\n",
              "    </tr>\n",
              "  </thead>\n",
              "  <tbody>\n",
              "    <tr>\n",
              "      <th>0</th>\n",
              "      <td>178</td>\n",
              "      <td>2022-01-19 02:08:39</td>\n",
              "      <td>2022-01-19</td>\n",
              "      <td>02:08:39</td>\n",
              "      <td>К сожалению, мы (и вы, уверены, тоже) часто ст...</td>\n",
              "      <td>6</td>\n",
              "      <td>27</td>\n",
              "    </tr>\n",
              "  </tbody>\n",
              "</table>\n",
              "</div>"
            ],
            "text/plain": [
              "   post_id       post_datetime   post_date post_time  \\\n",
              "0      178 2022-01-19 02:08:39  2022-01-19  02:08:39   \n",
              "\n",
              "                                                text  comments_amount  \\\n",
              "0  К сожалению, мы (и вы, уверены, тоже) часто ст...                6   \n",
              "\n",
              "   likes_amount  \n",
              "0            27  "
            ]
          },
          "execution_count": 50,
          "metadata": {},
          "output_type": "execute_result"
        }
      ],
      "source": [
        "df_end"
      ]
    },
    {
      "cell_type": "markdown",
      "metadata": {},
      "source": [
        "We will get data by iterating offset in dates, each interation will be one row in result table"
      ]
    },
    {
      "cell_type": "code",
      "execution_count": 53,
      "metadata": {},
      "outputs": [
        {
          "name": "stdout",
          "output_type": "stream",
          "text": [
            "fine\n"
          ]
        }
      ],
      "source": [
        "df_final = df_start.drop(axis=0, index=0) # shape of final df\n",
        "for offset in range(offset_end, offset_start):\n",
        "    response_iter = get_response(vk_token=vk_token, offset = offset, count=count, owner_id=owner_id)\n",
        "    df_iter = get_df_from_response(response_iter, offset)\n",
        "    df_final = pd.concat([df_final, df_iter], ignore_index=True)\n",
        "print('fine')\n"
      ]
    },
    {
      "cell_type": "code",
      "execution_count": 55,
      "metadata": {},
      "outputs": [
        {
          "data": {
            "text/html": [
              "<div>\n",
              "<style scoped>\n",
              "    .dataframe tbody tr th:only-of-type {\n",
              "        vertical-align: middle;\n",
              "    }\n",
              "\n",
              "    .dataframe tbody tr th {\n",
              "        vertical-align: top;\n",
              "    }\n",
              "\n",
              "    .dataframe thead th {\n",
              "        text-align: right;\n",
              "    }\n",
              "</style>\n",
              "<table border=\"1\" class=\"dataframe\">\n",
              "  <thead>\n",
              "    <tr style=\"text-align: right;\">\n",
              "      <th></th>\n",
              "      <th>post_id</th>\n",
              "      <th>post_datetime</th>\n",
              "      <th>post_date</th>\n",
              "      <th>post_time</th>\n",
              "      <th>text</th>\n",
              "      <th>comments_amount</th>\n",
              "      <th>likes_amount</th>\n",
              "    </tr>\n",
              "  </thead>\n",
              "  <tbody>\n",
              "    <tr>\n",
              "      <th>0</th>\n",
              "      <td>178</td>\n",
              "      <td>2022-01-19 02:08:39</td>\n",
              "      <td>2022-01-19</td>\n",
              "      <td>02:08:39</td>\n",
              "      <td>К сожалению, мы (и вы, уверены, тоже) часто ст...</td>\n",
              "      <td>6</td>\n",
              "      <td>27</td>\n",
              "    </tr>\n",
              "    <tr>\n",
              "      <th>1</th>\n",
              "      <td>179</td>\n",
              "      <td>2022-01-18 18:09:17</td>\n",
              "      <td>2022-01-18</td>\n",
              "      <td>18:09:17</td>\n",
              "      <td>Замечали когда-нибудь, как мотивируют чужие ус...</td>\n",
              "      <td>2</td>\n",
              "      <td>225</td>\n",
              "    </tr>\n",
              "  </tbody>\n",
              "</table>\n",
              "</div>"
            ],
            "text/plain": [
              "   post_id       post_datetime   post_date post_time  \\\n",
              "0      178 2022-01-19 02:08:39  2022-01-19  02:08:39   \n",
              "1      179 2022-01-18 18:09:17  2022-01-18  18:09:17   \n",
              "\n",
              "                                                text  comments_amount  \\\n",
              "0  К сожалению, мы (и вы, уверены, тоже) часто ст...                6   \n",
              "1  Замечали когда-нибудь, как мотивируют чужие ус...                2   \n",
              "\n",
              "   likes_amount  \n",
              "0            27  \n",
              "1           225  "
            ]
          },
          "execution_count": 55,
          "metadata": {},
          "output_type": "execute_result"
        }
      ],
      "source": [
        "df_final.head(2)"
      ]
    },
    {
      "cell_type": "markdown",
      "metadata": {},
      "source": [
        "For analysis, we will divide 24 hours period on 4 periods:\n",
        "- 07:00 - 13:00 - first part of the day\n",
        "- 13:00 - 19:00 - second part of the day\n",
        "- 19:00 - 01:00 - evening/beggining of the night\n",
        "- 01:00 - 07:00 - night/early morning"
      ]
    },
    {
      "cell_type": "markdown",
      "metadata": {},
      "source": [
        "Then categorise posts in different time periods:"
      ]
    },
    {
      "cell_type": "code",
      "execution_count": 56,
      "metadata": {},
      "outputs": [],
      "source": [
        "time_1 = datetime(2000,1,1,7,0,0).time() # 07:00\n",
        "time_2 = datetime(2000,1,1,13,0,0).time() # 13:00\n",
        "time_3 = datetime(2000,1,1,19,0,0).time() # 19:00\n",
        "time_4 = datetime(2000,1,1,1,0,0).time() # 01:00\n",
        "\n",
        "period_colors = {\n",
        "    '07:00-13:00' : 'green',\n",
        "    '13:00-19:00' : 'blue',\n",
        "    '19:00-01:00' : 'red',\n",
        "    '01:00-07:00' : 'orange'\n",
        "}"
      ]
    },
    {
      "cell_type": "code",
      "execution_count": 57,
      "metadata": {},
      "outputs": [],
      "source": [
        "def determine_time_period(post_time):\n",
        "    if post_time > time_1 and post_time < time_2:\n",
        "        post_period = '07:00-13:00'\n",
        "    elif post_time > time_2 and post_time < time_3:\n",
        "        post_period = '13:00-19:00'\n",
        "    elif post_time > time_3 or post_time < time_4:\n",
        "        post_period = '19:00-01:00'\n",
        "    elif post_time > time_4 and post_time < time_1:\n",
        "        post_period = '01:00-07:00'\n",
        "    else:\n",
        "        post_period = 'What?!'\n",
        "    return post_period"
      ]
    },
    {
      "cell_type": "code",
      "execution_count": 58,
      "metadata": {},
      "outputs": [],
      "source": [
        "df_final['post_period'] = df_final['post_time'].apply(lambda x: determine_time_period(x))"
      ]
    },
    {
      "cell_type": "code",
      "execution_count": 59,
      "metadata": {},
      "outputs": [
        {
          "data": {
            "text/html": [
              "<div>\n",
              "<style scoped>\n",
              "    .dataframe tbody tr th:only-of-type {\n",
              "        vertical-align: middle;\n",
              "    }\n",
              "\n",
              "    .dataframe tbody tr th {\n",
              "        vertical-align: top;\n",
              "    }\n",
              "\n",
              "    .dataframe thead th {\n",
              "        text-align: right;\n",
              "    }\n",
              "</style>\n",
              "<table border=\"1\" class=\"dataframe\">\n",
              "  <thead>\n",
              "    <tr style=\"text-align: right;\">\n",
              "      <th></th>\n",
              "      <th>post_id</th>\n",
              "      <th>post_datetime</th>\n",
              "      <th>post_date</th>\n",
              "      <th>post_time</th>\n",
              "      <th>text</th>\n",
              "      <th>comments_amount</th>\n",
              "      <th>likes_amount</th>\n",
              "      <th>post_period</th>\n",
              "    </tr>\n",
              "  </thead>\n",
              "  <tbody>\n",
              "    <tr>\n",
              "      <th>0</th>\n",
              "      <td>178</td>\n",
              "      <td>2022-01-19 02:08:39</td>\n",
              "      <td>2022-01-19</td>\n",
              "      <td>02:08:39</td>\n",
              "      <td>К сожалению, мы (и вы, уверены, тоже) часто ст...</td>\n",
              "      <td>6</td>\n",
              "      <td>27</td>\n",
              "      <td>01:00-07:00</td>\n",
              "    </tr>\n",
              "    <tr>\n",
              "      <th>1</th>\n",
              "      <td>179</td>\n",
              "      <td>2022-01-18 18:09:17</td>\n",
              "      <td>2022-01-18</td>\n",
              "      <td>18:09:17</td>\n",
              "      <td>Замечали когда-нибудь, как мотивируют чужие ус...</td>\n",
              "      <td>2</td>\n",
              "      <td>225</td>\n",
              "      <td>13:00-19:00</td>\n",
              "    </tr>\n",
              "  </tbody>\n",
              "</table>\n",
              "</div>"
            ],
            "text/plain": [
              "   post_id       post_datetime   post_date post_time  \\\n",
              "0      178 2022-01-19 02:08:39  2022-01-19  02:08:39   \n",
              "1      179 2022-01-18 18:09:17  2022-01-18  18:09:17   \n",
              "\n",
              "                                                text  comments_amount  \\\n",
              "0  К сожалению, мы (и вы, уверены, тоже) часто ст...                6   \n",
              "1  Замечали когда-нибудь, как мотивируют чужие ус...                2   \n",
              "\n",
              "   likes_amount  post_period  \n",
              "0            27  01:00-07:00  \n",
              "1           225  13:00-19:00  "
            ]
          },
          "execution_count": 59,
          "metadata": {},
          "output_type": "execute_result"
        }
      ],
      "source": [
        "df_final.head(2)"
      ]
    },
    {
      "cell_type": "code",
      "execution_count": 60,
      "metadata": {},
      "outputs": [],
      "source": [
        "df_analysis = df_final.groupby(['post_period'], as_index=False).agg({\n",
        "    'likes_amount': sum # sum of likes\n",
        "})\n",
        "df_analysis = df_analysis.sort_values(by='likes_amount')"
      ]
    },
    {
      "cell_type": "code",
      "execution_count": 61,
      "metadata": {},
      "outputs": [
        {
          "data": {
            "text/html": [
              "<div>\n",
              "<style scoped>\n",
              "    .dataframe tbody tr th:only-of-type {\n",
              "        vertical-align: middle;\n",
              "    }\n",
              "\n",
              "    .dataframe tbody tr th {\n",
              "        vertical-align: top;\n",
              "    }\n",
              "\n",
              "    .dataframe thead th {\n",
              "        text-align: right;\n",
              "    }\n",
              "</style>\n",
              "<table border=\"1\" class=\"dataframe\">\n",
              "  <thead>\n",
              "    <tr style=\"text-align: right;\">\n",
              "      <th></th>\n",
              "      <th>post_period</th>\n",
              "      <th>likes_amount</th>\n",
              "    </tr>\n",
              "  </thead>\n",
              "  <tbody>\n",
              "    <tr>\n",
              "      <th>0</th>\n",
              "      <td>01:00-07:00</td>\n",
              "      <td>183</td>\n",
              "    </tr>\n",
              "    <tr>\n",
              "      <th>2</th>\n",
              "      <td>19:00-01:00</td>\n",
              "      <td>2189</td>\n",
              "    </tr>\n",
              "    <tr>\n",
              "      <th>1</th>\n",
              "      <td>13:00-19:00</td>\n",
              "      <td>3211</td>\n",
              "    </tr>\n",
              "  </tbody>\n",
              "</table>\n",
              "</div>"
            ],
            "text/plain": [
              "   post_period  likes_amount\n",
              "0  01:00-07:00           183\n",
              "2  19:00-01:00          2189\n",
              "1  13:00-19:00          3211"
            ]
          },
          "execution_count": 61,
          "metadata": {},
          "output_type": "execute_result"
        }
      ],
      "source": [
        "df_analysis"
      ]
    },
    {
      "cell_type": "code",
      "execution_count": 62,
      "metadata": {},
      "outputs": [
        {
          "data": {
            "text/plain": [
              "<AxesSubplot:xlabel='post_period', ylabel='likes_amount'>"
            ]
          },
          "execution_count": 62,
          "metadata": {},
          "output_type": "execute_result"
        },
        {
          "data": {
            "image/png": "[encoded data removed]",
            "text/plain": [
              "<Figure size 648x504 with 1 Axes>"
            ]
          },
          "metadata": {
            "needs_background": "light"
          },
          "output_type": "display_data"
        }
      ],
      "source": [
        "from matplotlib import pyplot as plt\n",
        "import seaborn as sns\n",
        "\n",
        "fig, ax = plt.subplots(figsize=(9,7))\n",
        "\n",
        "sns.barplot(x='post_period', y='likes_amount', data=df_analysis, ax=ax, palette=period_colors)"
      ]
    },
    {
      "cell_type": "markdown",
      "metadata": {},
      "source": [
        "We can observe:\n",
        "- posts in the studied period were not published in period 07:00 - 13:00\n",
        "- the highest amount of user's likes were gain by the posts uploaded in 13:00-19:00 period\n",
        "- lowest amount of likes in posts uploaded in 01:00-07:00 period\n",
        "\n",
        "Here it is important to note that number of posts can be different, which may significantly influence final results. Therefore, more correct analysis should be based on Average or Median values:"
      ]
    },
    {
      "cell_type": "code",
      "execution_count": 63,
      "metadata": {},
      "outputs": [],
      "source": [
        "df_analysis = df_final.groupby(['post_period'], as_index=False).agg({\n",
        "    'likes_amount': 'mean' # sum of likes\n",
        "})\n",
        "df_analysis = df_analysis.sort_values(by='likes_amount')\n"
      ]
    },
    {
      "cell_type": "code",
      "execution_count": 64,
      "metadata": {},
      "outputs": [
        {
          "data": {
            "text/html": [
              "<div>\n",
              "<style scoped>\n",
              "    .dataframe tbody tr th:only-of-type {\n",
              "        vertical-align: middle;\n",
              "    }\n",
              "\n",
              "    .dataframe tbody tr th {\n",
              "        vertical-align: top;\n",
              "    }\n",
              "\n",
              "    .dataframe thead th {\n",
              "        text-align: right;\n",
              "    }\n",
              "</style>\n",
              "<table border=\"1\" class=\"dataframe\">\n",
              "  <thead>\n",
              "    <tr style=\"text-align: right;\">\n",
              "      <th></th>\n",
              "      <th>post_period</th>\n",
              "      <th>likes_amount</th>\n",
              "    </tr>\n",
              "  </thead>\n",
              "  <tbody>\n",
              "    <tr>\n",
              "      <th>0</th>\n",
              "      <td>01:00-07:00</td>\n",
              "      <td>30.500000</td>\n",
              "    </tr>\n",
              "    <tr>\n",
              "      <th>2</th>\n",
              "      <td>19:00-01:00</td>\n",
              "      <td>52.119048</td>\n",
              "    </tr>\n",
              "    <tr>\n",
              "      <th>1</th>\n",
              "      <td>13:00-19:00</td>\n",
              "      <td>94.441176</td>\n",
              "    </tr>\n",
              "  </tbody>\n",
              "</table>\n",
              "</div>"
            ],
            "text/plain": [
              "   post_period  likes_amount\n",
              "0  01:00-07:00     30.500000\n",
              "2  19:00-01:00     52.119048\n",
              "1  13:00-19:00     94.441176"
            ]
          },
          "execution_count": 64,
          "metadata": {},
          "output_type": "execute_result"
        }
      ],
      "source": [
        "df_analysis"
      ]
    },
    {
      "cell_type": "code",
      "execution_count": 65,
      "metadata": {},
      "outputs": [
        {
          "data": {
            "image/png": "[encoded data removed]",
            "text/plain": [
              "<Figure size 648x504 with 1 Axes>"
            ]
          },
          "metadata": {
            "needs_background": "light"
          },
          "output_type": "display_data"
        }
      ],
      "source": [
        "from matplotlib import pyplot as plt\n",
        "import seaborn as sns\n",
        "\n",
        "fig, ax = plt.subplots(figsize=(9,7))\n",
        "\n",
        "sns.barplot(x='post_period', y='likes_amount', data=df_analysis, ax=ax, palette=period_colors)\n",
        "\n",
        "ax.tick_params(axis='x')"
      ]
    },
    {
      "cell_type": "markdown",
      "metadata": {},
      "source": [
        "Relation between periods considering average amount of user's reaction is different, but the overall picture is still as in the total number of reaction analysis"
      ]
    },
    {
      "cell_type": "markdown",
      "metadata": {},
      "source": [
        "Consider the similar analysis for comments:"
      ]
    },
    {
      "cell_type": "code",
      "execution_count": 66,
      "metadata": {},
      "outputs": [],
      "source": [
        "df_comm = df_final.groupby(['post_period'], as_index=False).agg({\n",
        "    'comments_amount': sum\n",
        "})\n",
        "df_comm = df_comm.sort_values(by='comments_amount')"
      ]
    },
    {
      "cell_type": "code",
      "execution_count": 67,
      "metadata": {},
      "outputs": [
        {
          "data": {
            "text/html": [
              "<div>\n",
              "<style scoped>\n",
              "    .dataframe tbody tr th:only-of-type {\n",
              "        vertical-align: middle;\n",
              "    }\n",
              "\n",
              "    .dataframe tbody tr th {\n",
              "        vertical-align: top;\n",
              "    }\n",
              "\n",
              "    .dataframe thead th {\n",
              "        text-align: right;\n",
              "    }\n",
              "</style>\n",
              "<table border=\"1\" class=\"dataframe\">\n",
              "  <thead>\n",
              "    <tr style=\"text-align: right;\">\n",
              "      <th></th>\n",
              "      <th>post_period</th>\n",
              "      <th>comments_amount</th>\n",
              "    </tr>\n",
              "  </thead>\n",
              "  <tbody>\n",
              "    <tr>\n",
              "      <th>0</th>\n",
              "      <td>01:00-07:00</td>\n",
              "      <td>29</td>\n",
              "    </tr>\n",
              "    <tr>\n",
              "      <th>1</th>\n",
              "      <td>13:00-19:00</td>\n",
              "      <td>164</td>\n",
              "    </tr>\n",
              "    <tr>\n",
              "      <th>2</th>\n",
              "      <td>19:00-01:00</td>\n",
              "      <td>175</td>\n",
              "    </tr>\n",
              "  </tbody>\n",
              "</table>\n",
              "</div>"
            ],
            "text/plain": [
              "   post_period  comments_amount\n",
              "0  01:00-07:00               29\n",
              "1  13:00-19:00              164\n",
              "2  19:00-01:00              175"
            ]
          },
          "execution_count": 67,
          "metadata": {},
          "output_type": "execute_result"
        }
      ],
      "source": [
        "df_comm"
      ]
    },
    {
      "cell_type": "code",
      "execution_count": 68,
      "metadata": {},
      "outputs": [
        {
          "data": {
            "image/png": "[encoded data removed]",
            "text/plain": [
              "<Figure size 648x504 with 1 Axes>"
            ]
          },
          "metadata": {
            "needs_background": "light"
          },
          "output_type": "display_data"
        }
      ],
      "source": [
        "from matplotlib import pyplot as plt\n",
        "import seaborn as sns\n",
        "\n",
        "fig, ax = plt.subplots(figsize=(9,7))\n",
        "\n",
        "sns.barplot(x='post_period', y='comments_amount', data=df_comm, ax=ax, palette=period_colors)\n",
        "\n",
        "ax.tick_params(axis='x')"
      ]
    },
    {
      "cell_type": "markdown",
      "metadata": {},
      "source": [
        "Considering comments, we can see slightly different results:\n",
        "- Leader in amount of comments is period 19:00-01:00\n",
        "- Lowest number of comments were observed in period 01:00-07:00 (same as in Likes analysis)"
      ]
    },
    {
      "cell_type": "markdown",
      "metadata": {},
      "source": [
        "Consider Average number of comments:"
      ]
    },
    {
      "cell_type": "code",
      "execution_count": 69,
      "metadata": {},
      "outputs": [],
      "source": [
        "df_comm = df_final.groupby(['post_period'], as_index=False).agg({\n",
        "    'comments_amount': 'mean'\n",
        "})\n",
        "df_comm = df_comm.sort_values(by='comments_amount')"
      ]
    },
    {
      "cell_type": "code",
      "execution_count": 70,
      "metadata": {},
      "outputs": [
        {
          "data": {
            "text/html": [
              "<div>\n",
              "<style scoped>\n",
              "    .dataframe tbody tr th:only-of-type {\n",
              "        vertical-align: middle;\n",
              "    }\n",
              "\n",
              "    .dataframe tbody tr th {\n",
              "        vertical-align: top;\n",
              "    }\n",
              "\n",
              "    .dataframe thead th {\n",
              "        text-align: right;\n",
              "    }\n",
              "</style>\n",
              "<table border=\"1\" class=\"dataframe\">\n",
              "  <thead>\n",
              "    <tr style=\"text-align: right;\">\n",
              "      <th></th>\n",
              "      <th>post_period</th>\n",
              "      <th>comments_amount</th>\n",
              "    </tr>\n",
              "  </thead>\n",
              "  <tbody>\n",
              "    <tr>\n",
              "      <th>2</th>\n",
              "      <td>19:00-01:00</td>\n",
              "      <td>4.166667</td>\n",
              "    </tr>\n",
              "    <tr>\n",
              "      <th>1</th>\n",
              "      <td>13:00-19:00</td>\n",
              "      <td>4.823529</td>\n",
              "    </tr>\n",
              "    <tr>\n",
              "      <th>0</th>\n",
              "      <td>01:00-07:00</td>\n",
              "      <td>4.833333</td>\n",
              "    </tr>\n",
              "  </tbody>\n",
              "</table>\n",
              "</div>"
            ],
            "text/plain": [
              "   post_period  comments_amount\n",
              "2  19:00-01:00         4.166667\n",
              "1  13:00-19:00         4.823529\n",
              "0  01:00-07:00         4.833333"
            ]
          },
          "execution_count": 70,
          "metadata": {},
          "output_type": "execute_result"
        }
      ],
      "source": [
        "df_comm"
      ]
    },
    {
      "cell_type": "code",
      "execution_count": 71,
      "metadata": {},
      "outputs": [
        {
          "data": {
            "text/plain": [
              "<AxesSubplot:xlabel='post_period', ylabel='comments_amount'>"
            ]
          },
          "execution_count": 71,
          "metadata": {},
          "output_type": "execute_result"
        },
        {
          "data": {
            "image/png": "[encoded data removed]",
            "text/plain": [
              "<Figure size 648x504 with 1 Axes>"
            ]
          },
          "metadata": {
            "needs_background": "light"
          },
          "output_type": "display_data"
        }
      ],
      "source": [
        "fig, ax = plt.subplots(figsize=(9,7))\n",
        "\n",
        "sns.barplot(x='post_period', y='comments_amount', data=df_comm, ax=ax, palette=period_colors)"
      ]
    },
    {
      "cell_type": "markdown",
      "metadata": {},
      "source": [
        "Picture significantly changed:\n",
        "- Average number of comments is close to each other on all considered periods\n",
        "- Interesting observation is that Leader in average number of comments is period 01:00-07:00, although this interval was outsider in previous studies"
      ]
    },
    {
      "cell_type": "markdown",
      "metadata": {},
      "source": [
        "#### *Categories of Posts by '#'*  \n",
        "For analysis of user's reactions based on posts category following categories were considered:  \n",
        "this is public not in English, however we still can find the important insights\n",
        "1) психология (psychology)\n",
        "2) мультимедиа (multimedia)\n",
        "3) дизайн (design)\n",
        "4) маркетинг (marketing)\n",
        "5) трудоустройство (employment)\n",
        "6) программирование (programming)\n",
        "7) игры (games)\n",
        "8) управление (management)\n",
        "9) бизнес (business)"
      ]
    },
    {
      "cell_type": "code",
      "execution_count": 81,
      "metadata": {},
      "outputs": [],
      "source": [
        "import regex as re\n",
        "def determine_tag(text):\n",
        "    match_1 = re.search(r'_психология', text, re.IGNORECASE)\n",
        "    match_2 = re.search(r'_мультимедиа', text, re.IGNORECASE)\n",
        "    match_3 = re.search(r'_дизайн', text, re.IGNORECASE)\n",
        "    match_4 = re.search(r'_маркетинг', text, re.IGNORECASE)\n",
        "    match_5 = re.search(r'_трудоустройство', text, re.IGNORECASE)\n",
        "    match_6 = re.search(r'_программирование', text, re.IGNORECASE)\n",
        "    match_7 = re.search(r'_игры', text, re.IGNORECASE)\n",
        "    match_8 = re.search(r'_управление', text, re.IGNORECASE)\n",
        "    match_9 = re.search(r'_бизнес', text, re.IGNORECASE)\n",
        "\n",
        "    if match_1 != None:\n",
        "        post_tag = 'psychology'\n",
        "    elif match_2 != None:\n",
        "        post_tag = 'multimedia'\n",
        "    elif match_3 != None:\n",
        "        post_tag = 'design'\n",
        "    elif match_4 != None:\n",
        "        post_tag = 'marketing'\n",
        "    elif match_5 != None:\n",
        "        post_tag = 'employment'\n",
        "    elif match_6 != None:\n",
        "        post_tag = 'programming'\n",
        "    elif match_7 != None:\n",
        "        post_tag = 'games'\n",
        "    elif match_8 != None:\n",
        "        post_tag = 'management'\n",
        "    elif match_9 != None:\n",
        "        post_tag = 'business'\n",
        "    else:\n",
        "        post_tag = 'No tag'\n",
        "\n",
        "    return post_tag"
      ]
    },
    {
      "cell_type": "code",
      "execution_count": 82,
      "metadata": {},
      "outputs": [],
      "source": [
        "# apply function to determine tags:\n",
        "df_final['post_tag'] = df_final['text'].apply(lambda x: determine_tag(x))"
      ]
    },
    {
      "cell_type": "code",
      "execution_count": 83,
      "metadata": {},
      "outputs": [
        {
          "data": {
            "text/html": [
              "<div>\n",
              "<style scoped>\n",
              "    .dataframe tbody tr th:only-of-type {\n",
              "        vertical-align: middle;\n",
              "    }\n",
              "\n",
              "    .dataframe tbody tr th {\n",
              "        vertical-align: top;\n",
              "    }\n",
              "\n",
              "    .dataframe thead th {\n",
              "        text-align: right;\n",
              "    }\n",
              "</style>\n",
              "<table border=\"1\" class=\"dataframe\">\n",
              "  <thead>\n",
              "    <tr style=\"text-align: right;\">\n",
              "      <th></th>\n",
              "      <th>post_id</th>\n",
              "      <th>post_datetime</th>\n",
              "      <th>post_date</th>\n",
              "      <th>post_time</th>\n",
              "      <th>text</th>\n",
              "      <th>comments_amount</th>\n",
              "      <th>likes_amount</th>\n",
              "      <th>post_period</th>\n",
              "      <th>post_tag</th>\n",
              "    </tr>\n",
              "  </thead>\n",
              "  <tbody>\n",
              "    <tr>\n",
              "      <th>80</th>\n",
              "      <td>258</td>\n",
              "      <td>2021-11-19 23:21:33</td>\n",
              "      <td>2021-11-19</td>\n",
              "      <td>23:21:33</td>\n",
              "      <td>Знакомы с Наполеоном? Нет, мы не про французск...</td>\n",
              "      <td>0</td>\n",
              "      <td>18</td>\n",
              "      <td>19:00-01:00</td>\n",
              "      <td>No tag</td>\n",
              "    </tr>\n",
              "    <tr>\n",
              "      <th>81</th>\n",
              "      <td>259</td>\n",
              "      <td>2021-11-19 18:30:39</td>\n",
              "      <td>2021-11-19</td>\n",
              "      <td>18:30:39</td>\n",
              "      <td>Славянская мифология, русская культура, советс...</td>\n",
              "      <td>5</td>\n",
              "      <td>47</td>\n",
              "      <td>13:00-19:00</td>\n",
              "      <td>design</td>\n",
              "    </tr>\n",
              "  </tbody>\n",
              "</table>\n",
              "</div>"
            ],
            "text/plain": [
              "    post_id       post_datetime   post_date post_time  \\\n",
              "80      258 2021-11-19 23:21:33  2021-11-19  23:21:33   \n",
              "81      259 2021-11-19 18:30:39  2021-11-19  18:30:39   \n",
              "\n",
              "                                                 text  comments_amount  \\\n",
              "80  Знакомы с Наполеоном? Нет, мы не про французск...                0   \n",
              "81  Славянская мифология, русская культура, советс...                5   \n",
              "\n",
              "    likes_amount  post_period post_tag  \n",
              "80            18  19:00-01:00   No tag  \n",
              "81            47  13:00-19:00   design  "
            ]
          },
          "execution_count": 83,
          "metadata": {},
          "output_type": "execute_result"
        }
      ],
      "source": [
        "df_final.tail(2)"
      ]
    },
    {
      "cell_type": "markdown",
      "metadata": {},
      "source": [
        "Consider similart results on amount of likes and comments and average valuesПроведем исследование по среднему количеству лайков и комментариев"
      ]
    },
    {
      "cell_type": "markdown",
      "metadata": {},
      "source": [
        "Likes:"
      ]
    },
    {
      "cell_type": "code",
      "execution_count": 84,
      "metadata": {},
      "outputs": [
        {
          "data": {
            "image/png": "[encoded data removed]",
            "text/plain": [
              "<Figure size 648x504 with 1 Axes>"
            ]
          },
          "metadata": {
            "needs_background": "light"
          },
          "output_type": "display_data"
        }
      ],
      "source": [
        "# groupping and calculating mean:\n",
        "df_likes = df_final.groupby(['post_tag'], as_index=False).agg({\n",
        "    'likes_amount': 'mean'\n",
        "})\n",
        "df_likes = df_likes.sort_values(by='likes_amount')\n",
        "df_likes = df_likes[df_likes['post_tag'] != 'No tag']\n",
        "\n",
        "#visualize:\n",
        "fig, ax = plt.subplots(figsize=(9,7))\n",
        "sns.barplot(x='post_tag', y='likes_amount', data=df_likes, ax=ax)\n",
        "ax.tick_params(axis='x', rotation=30)"
      ]
    },
    {
      "cell_type": "markdown",
      "metadata": {},
      "source": [
        "Outputs:\n",
        "- highest likes amount in posts with Tag Design\n",
        "- loset in Business category"
      ]
    },
    {
      "cell_type": "markdown",
      "metadata": {},
      "source": [
        "Comments:"
      ]
    },
    {
      "cell_type": "code",
      "execution_count": 85,
      "metadata": {},
      "outputs": [
        {
          "data": {
            "image/png": "[encoded data removed]",
            "text/plain": [
              "<Figure size 648x504 with 1 Axes>"
            ]
          },
          "metadata": {
            "needs_background": "light"
          },
          "output_type": "display_data"
        }
      ],
      "source": [
        "# groupping and calculating mean:\n",
        "df_comm = df_final.groupby(['post_tag'], as_index=False).agg({\n",
        "    'comments_amount': 'mean'\n",
        "})\n",
        "df_comm = df_comm.sort_values(by='comments_amount')\n",
        "df_comm = df_comm[df_comm['post_tag'] != 'No tag']\n",
        "\n",
        "#visualize:\n",
        "fig, ax = plt.subplots(figsize=(9,7))\n",
        "sns.barplot(x='post_tag', y='comments_amount', data=df_comm, ax=ax)\n",
        "ax.tick_params(axis='x', rotation=30)"
      ]
    },
    {
      "cell_type": "markdown",
      "metadata": {},
      "source": [
        "Outputs:\n",
        "- Average number of comments is much lower then number of likes\n",
        "- There is high deviation between categories\n",
        "- Leaders in the amount of comments is Game category\n",
        "- In Business and Employment categories were no comments in the considered period"
      ]
    }
  ],
  "metadata": {
    "colab": {
      "collapsed_sections": [],
      "name": "Coursework_analytics_2.ipynb",
      "provenance": []
    },
    "kernelspec": {
      "display_name": "Python 3.10.4 64-bit",
      "language": "python",
      "name": "python3"
    },
    "language_info": {
      "codemirror_mode": {
        "name": "ipython",
        "version": 3
      },
      "file_extension": ".py",
      "mimetype": "text/x-python",
      "name": "python",
      "nbconvert_exporter": "python",
      "pygments_lexer": "ipython3",
      "version": "3.10.4"
    },
    "vscode": {
      "interpreter": {
        "hash": "26de051ba29f2982a8de78e945f0abaf191376122a1563185a90213a26c5da77"
      }
    }
  },
  "nbformat": 4,
  "nbformat_minor": 0
}
